{
  "nbformat": 4,
  "nbformat_minor": 0,
  "metadata": {
    "colab": {
      "provenance": []
    },
    "kernelspec": {
      "name": "python3",
      "display_name": "Python 3"
    },
    "language_info": {
      "name": "python"
    }
  },
  "cells": [
    {
      "cell_type": "markdown",
      "source": [
        "Import Library"
      ],
      "metadata": {
        "id": "YI4EZkGe8--J"
      }
    },
    {
      "cell_type": "code",
      "execution_count": 17,
      "metadata": {
        "id": "h2XMN5157eQh"
      },
      "outputs": [],
      "source": [
        "from sklearn.model_selection import train_test_split\n",
        "from sklearn.preprocessing import StandardScaler\n",
        "from sklearn.tree import DecisionTreeRegressor\n",
        "from sklearn.neighbors import KNeighborsRegressor\n",
        "from sklearn.linear_model import LinearRegression\n",
        "from sklearn.preprocessing import PolynomialFeatures, StandardScaler\n",
        "import pandas as pd\n",
        "import numpy as np\n",
        "from sklearn.metrics import mean_squared_error, r2_score\n",
        "from sklearn.model_selection import train_test_split"
      ]
    },
    {
      "cell_type": "markdown",
      "source": [
        "Membaca dataset"
      ],
      "metadata": {
        "id": "XFdDxyxA9FhB"
      }
    },
    {
      "cell_type": "code",
      "source": [
        "data = pd.read_csv('MaterialStrength.csv')"
      ],
      "metadata": {
        "id": "eBPw0flF9b0C"
      },
      "execution_count": 2,
      "outputs": []
    },
    {
      "cell_type": "markdown",
      "source": [
        "Bersihkan kolom x14, x15"
      ],
      "metadata": {
        "id": "sbx1FvJS9xcb"
      }
    },
    {
      "cell_type": "code",
      "source": [
        "data['x14'] = data['x14'].str.lower().map({'yes': 1, 'no': 0})\n",
        "data['x15'] = data['x15'].str.lower().map({'yes': 1, 'no': 0})"
      ],
      "metadata": {
        "id": "YmJcLQIj9y8F"
      },
      "execution_count": 3,
      "outputs": []
    },
    {
      "cell_type": "code",
      "source": [
        "data_cleaned = data.dropna()"
      ],
      "metadata": {
        "id": "EhPHm-f8-01d"
      },
      "execution_count": 4,
      "outputs": []
    },
    {
      "cell_type": "markdown",
      "source": [
        "Feature (X) dan target (y)"
      ],
      "metadata": {
        "id": "PuMPo1D1927s"
      }
    },
    {
      "cell_type": "code",
      "source": [
        "X_cleaned = data_cleaned.drop(columns=['target_feature'])\n",
        "y_cleaned = data_cleaned['target_feature']"
      ],
      "metadata": {
        "id": "40XJgnip98g-"
      },
      "execution_count": 5,
      "outputs": []
    },
    {
      "cell_type": "markdown",
      "source": [
        "Bagi data menjadi training set dan testing set"
      ],
      "metadata": {
        "id": "0hIc0NgX99lT"
      }
    },
    {
      "cell_type": "code",
      "source": [
        "X_train_cleaned, X_test_cleaned, y_train_cleaned, y_test_cleaned = train_test_split(\n",
        "    X_cleaned, y_cleaned, test_size=0.2, random_state=42)"
      ],
      "metadata": {
        "id": "nKGKqSKs-BL4"
      },
      "execution_count": 6,
      "outputs": []
    },
    {
      "cell_type": "markdown",
      "source": [
        "Scaler feature"
      ],
      "metadata": {
        "id": "w3-nyfWZ-DlA"
      }
    },
    {
      "cell_type": "code",
      "source": [
        "scaler = StandardScaler()\n",
        "X_train_scaled_cleaned = scaler.fit_transform(X_train_cleaned)\n",
        "X_test_scaled_cleaned = scaler.transform(X_test_cleaned)"
      ],
      "metadata": {
        "id": "2wpVzZfR-NGk"
      },
      "execution_count": 7,
      "outputs": []
    },
    {
      "cell_type": "markdown",
      "source": [
        "Inisialisasikan model"
      ],
      "metadata": {
        "id": "idm2xkbd-S1i"
      }
    },
    {
      "cell_type": "code",
      "source": [
        "dt_model = DecisionTreeRegressor(random_state=42)\n",
        "knn_model = KNeighborsRegressor(n_neighbors=5)\n",
        "lr_model = LinearRegression()"
      ],
      "metadata": {
        "id": "SQdGnuzM-Tod"
      },
      "execution_count": 8,
      "outputs": []
    },
    {
      "cell_type": "markdown",
      "source": [
        " Decision Tree Regression"
      ],
      "metadata": {
        "id": "7JwdXhL1-XGb"
      }
    },
    {
      "cell_type": "code",
      "source": [
        "dt_model.fit(X_train_scaled_cleaned, y_train_cleaned)\n",
        "y_pred_dt = dt_model.predict(X_test_scaled_cleaned)"
      ],
      "metadata": {
        "id": "mzHtagffACX3"
      },
      "execution_count": 9,
      "outputs": []
    },
    {
      "cell_type": "markdown",
      "source": [
        "k-NN Regression"
      ],
      "metadata": {
        "id": "-Czye9AyAE6H"
      }
    },
    {
      "cell_type": "code",
      "source": [
        "knn_model.fit(X_train_scaled_cleaned, y_train_cleaned)\n",
        "y_pred_knn = knn_model.predict(X_test_scaled_cleaned)"
      ],
      "metadata": {
        "id": "cp3T7BjEAJPN"
      },
      "execution_count": 10,
      "outputs": []
    },
    {
      "cell_type": "markdown",
      "source": [
        "Linear Regression"
      ],
      "metadata": {
        "id": "99t-TuhYAMi2"
      }
    },
    {
      "cell_type": "code",
      "source": [
        "lr_model.fit(X_train_scaled_cleaned, y_train_cleaned)\n",
        "y_pred_lr = lr_model.predict(X_test_scaled_cleaned)"
      ],
      "metadata": {
        "id": "AZwKiAUnAO4Y"
      },
      "execution_count": 11,
      "outputs": []
    },
    {
      "cell_type": "markdown",
      "source": [
        "Linear Regression with Polynomial Features"
      ],
      "metadata": {
        "id": "tjoNId2eAScv"
      }
    },
    {
      "cell_type": "code",
      "source": [
        "poly = PolynomialFeatures(degree=2)\n",
        "X_train_poly_cleaned = poly.fit_transform(X_train_scaled_cleaned)\n",
        "X_test_poly_cleaned = poly.transform(X_test_scaled_cleaned)\n",
        "\n",
        "lr_poly_model = LinearRegression()\n",
        "lr_poly_model.fit(X_train_poly_cleaned, y_train_cleaned)\n",
        "y_pred_poly = lr_poly_model.predict(X_test_poly_cleaned)"
      ],
      "metadata": {
        "id": "3YbNzi-XAR2c"
      },
      "execution_count": 12,
      "outputs": []
    },
    {
      "cell_type": "markdown",
      "source": [
        "Hitung matrix RMSE, MSE, and R-squared"
      ],
      "metadata": {
        "id": "5U2JcrfGAXNR"
      }
    },
    {
      "cell_type": "code",
      "source": [
        "def calculate_metrics(y_true, y_pred):\n",
        "    mse = mean_squared_error(y_true, y_pred)\n",
        "    rmse = np.sqrt(mse)\n",
        "    r2 = r2_score(y_true, y_pred)\n",
        "    return mse, rmse, r2\n",
        "\n",
        "metrics_dt = calculate_metrics(y_test_cleaned, y_pred_dt)\n",
        "metrics_knn = calculate_metrics(y_test_cleaned, y_pred_knn)\n",
        "metrics_lr = calculate_metrics(y_test_cleaned, y_pred_lr)\n",
        "metrics_poly = calculate_metrics(y_test_cleaned, y_pred_poly)"
      ],
      "metadata": {
        "id": "nWZGlWzCAZHY"
      },
      "execution_count": 14,
      "outputs": []
    },
    {
      "cell_type": "markdown",
      "source": [
        "Menampilan hasil"
      ],
      "metadata": {
        "id": "kWVbgyfrFrGA"
      }
    },
    {
      "cell_type": "code",
      "source": [
        "print(f\"Decision Tree:\", metrics_dt)\n",
        "print(f\"k-NN:\", metrics_knn)\n",
        "print(f\"Linear Regression:\", metrics_lr)\n",
        "print(f\"Polynomial Regression :\", metrics_poly)"
      ],
      "metadata": {
        "colab": {
          "base_uri": "https://localhost:8080/"
        },
        "id": "oOOC6ssKFs7p",
        "outputId": "60a2f95d-e091-4951-9829-83e4813485db"
      },
      "execution_count": 16,
      "outputs": [
        {
          "output_type": "stream",
          "name": "stdout",
          "text": [
            "Decision Tree: (53.284565555555545, 7.29962776828761, 0.8421454142704051)\n",
            "k-NN: (121.58358008888887, 11.026494460565827, 0.6398107882395687)\n",
            "Linear Regression: (105.7567711367489, 10.28381111926648, 0.6866974306380451)\n",
            "Polynomial Regression : (61.46782561848958, 7.840141938669833, 0.8179026506542662)\n"
          ]
        }
      ]
    }
  ]
}